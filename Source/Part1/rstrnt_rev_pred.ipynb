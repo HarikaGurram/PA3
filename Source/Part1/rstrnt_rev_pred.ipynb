{
 "cells": [
  {
   "cell_type": "code",
   "execution_count": 1,
   "metadata": {},
   "outputs": [
    {
     "name": "stdout",
     "output_type": "stream",
     "text": [
      "MAE is obtained as : 0.4095389816449604\n",
      "MSE is obtained as : 0.3154870866490245\n",
      "\n",
      "R^2 is obtained as :  -0.15395367413765482\n",
      "RMSE is obtained as :  0.5616823716737285\n"
     ]
    }
   ],
   "source": [
    "# Create Multiple Regression for the “Restaurant Revenue Prediction” dataset.\n",
    "# Evaluate the model using MAE, MSE, RMSE and R2 score.\n",
    "\n",
    "# importing libraries\n",
    "import pandas as pd\n",
    "import numpy as np\n",
    "import matplotlib.pyplot as plt\n",
    "plt.style.use(style='ggplot')\n",
    "plt.rcParams['figure.figsize'] = (10, 6)\n",
    "\n",
    "# fetching the data from data.csv file\n",
    "train = pd.read_csv('data.csv')\n",
    "\n",
    "# working with Numeric Features\n",
    "numeric_features = train.select_dtypes(include=[np.number])\n",
    "\n",
    "# find out the number of null values for the features\n",
    "nulls = pd.DataFrame(train.isnull().sum().sort_values(ascending=False))\n",
    "nulls.columns = ['Null Count']\n",
    "nulls.index.name = 'Feature'\n",
    "\n",
    "# handling missing or null value\n",
    "data = train.select_dtypes(include=[np.number]).interpolate().dropna()\n",
    "# print(sum(data.isnull().sum() != 0))\n",
    "\n",
    "# building a multiple linear model\n",
    "y = np.log(data.revenue)             # extracting label (revenue field)\n",
    "X = data.drop(['revenue'], axis=1)   # extracting features by excluding label i.e., revenue\n",
    "from sklearn.model_selection import train_test_split\n",
    "\n",
    "# splitting the data into test and train data\n",
    "X_train, X_test, y_train, y_test = train_test_split(X, y, random_state=1, test_size=0.2)\n",
    "from sklearn import linear_model\n",
    "lr = linear_model.LinearRegression()\n",
    "\n",
    "# training the model by using fit method\n",
    "model = lr.fit(X_train, y_train)\n",
    "\n",
    "# evaluating the performance of the model\n",
    "from sklearn.metrics import mean_squared_error\n",
    "from sklearn.metrics import r2_score\n",
    "from sklearn.metrics import mean_absolute_error\n",
    "\n",
    "# predicting test data\n",
    "y_actual = model.predict(X_test)\n",
    "print ('MAE is obtained as : ' + str(mean_absolute_error(y_test, y_actual))) # MAE\n",
    "print ('MSE is obtained as : ' + str(mean_squared_error(y_test, y_actual)) ) # MSE\n",
    "print(\"\\nR^2 is obtained as : \", r2_score(y_test, y_actual))            # R2 score\n",
    "def RMSE(predict, target):\n",
    "    return np.sqrt(((predict - target) ** 2).mean())\n",
    "print(\"RMSE is obtained as : \", str(RMSE(y_test, y_actual)))   # RMSE\n"
   ]
  },
  {
   "cell_type": "code",
   "execution_count": null,
   "metadata": {},
   "outputs": [],
   "source": []
  }
 ],
 "metadata": {
  "kernelspec": {
   "display_name": "Python 3",
   "language": "python",
   "name": "python3"
  },
  "language_info": {
   "codemirror_mode": {
    "name": "ipython",
    "version": 3
   },
   "file_extension": ".py",
   "mimetype": "text/x-python",
   "name": "python",
   "nbconvert_exporter": "python",
   "pygments_lexer": "ipython3",
   "version": "3.8.3"
  }
 },
 "nbformat": 4,
 "nbformat_minor": 4
}
