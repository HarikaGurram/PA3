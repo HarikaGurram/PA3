{
 "cells": [
  {
   "cell_type": "code",
   "execution_count": 4,
   "metadata": {},
   "outputs": [
    {
     "name": "stdout",
     "output_type": "stream",
     "text": [
      "revenue    1.000000\n",
      "P2         0.191518\n",
      "P28        0.155534\n",
      "P6         0.139094\n",
      "P21        0.097411\n",
      "P11        0.084247\n",
      "Name: revenue, dtype: float64 \n",
      "\n",
      "P34   -0.072343\n",
      "P10   -0.073220\n",
      "P8    -0.084215\n",
      "P13   -0.105085\n",
      "P29   -0.114846\n",
      "Name: revenue, dtype: float64 \n",
      "\n",
      "MAE is obtained as : 0.37646032884575287\n",
      "MSE is obtained as : 0.23693702726322638\n",
      "\n",
      "R^2 is obtained as :  0.013855615047432934\n",
      "RMSE is obtained as :  0.48676177670727844\n"
     ]
    }
   ],
   "source": [
    "# Find top 5 most correlated features to the target label(revenue) and then build a model on top of those 5 features.\n",
    "# Evaluate the model using MAE, MSE, RMSE and R2 score and then compare the result with the RMSE and R2 you achieved in question 2\n",
    "\n",
    "# importing libraries\n",
    "import pandas as pd\n",
    "import numpy as np\n",
    "import matplotlib.pyplot as plt\n",
    "plt.style.use(style='ggplot')\n",
    "plt.rcParams['figure.figsize'] = (10, 6)\n",
    "\n",
    "# fetching the data from data.csv file\n",
    "train = pd.read_csv('data.csv')\n",
    "\n",
    "# working with Numeric Features\n",
    "numeric_features = train.select_dtypes(include=[np.number])\n",
    "\n",
    "# finding the correlation with the numeric functions\n",
    "corr = numeric_features.corr()\n",
    "\n",
    "# top 5 correlated features with the label revenue\n",
    "print(corr['revenue'].sort_values(ascending=False)[:6], '\\n')\n",
    "print(corr['revenue'].sort_values(ascending=False)[-5:], '\\n')\n",
    "most_cor = ['P2', 'P6', 'P11', 'P21', 'P28', 'P34', 'P10', 'P8', 'P13', 'P29']\n",
    "\n",
    "# find out the number of null values for the features\n",
    "nulls = pd.DataFrame(train.isnull().sum().sort_values(ascending=False))\n",
    "nulls.columns = ['Null Count']\n",
    "nulls.index.name = 'Feature'\n",
    "\n",
    "# handling missing or null value\n",
    "data = train.select_dtypes(include=[np.number]).interpolate().dropna()\n",
    "# print(sum(data.isnull().sum() != 0))\n",
    "\n",
    "# building a multiple linear model\n",
    "y = np.log(data.revenue)\n",
    "X = data.drop(['revenue'], axis=1)\n",
    "X = X[most_cor]\n",
    "\n",
    "# splitting the data into test and train data\n",
    "from sklearn.model_selection import train_test_split\n",
    "X_train, X_test, y_train, y_test = train_test_split(X, y, random_state=1, test_size=0.25)\n",
    "from sklearn import linear_model\n",
    "lr = linear_model.LinearRegression()\n",
    "\n",
    "# training the model by using fit method\n",
    "model = lr.fit(X_train, y_train)\n",
    "\n",
    "# evaluating the performance of the model\n",
    "from sklearn.metrics import mean_squared_error\n",
    "from sklearn.metrics import r2_score\n",
    "from sklearn.metrics import mean_absolute_error\n",
    "y_actual = model.predict(X_test)                                       # predicting test data\n",
    "print ('MAE is obtained as : ' + str(mean_absolute_error(y_test, y_actual))) # MAE\n",
    "print ('MSE is obtained as : ' + str(mean_squared_error(y_test, y_actual)) ) # MSE\n",
    "print(\"\\nR^2 is obtained as : \", r2_score(y_test, y_actual))           # R2 score\n",
    "def RMSE(predict, target):\n",
    "    return np.sqrt(((predict - target) ** 2).mean())\n",
    "print(\"RMSE is obtained as : \", RMSE(y_test, y_actual))  # RMSE"
   ]
  },
  {
   "cell_type": "code",
   "execution_count": null,
   "metadata": {},
   "outputs": [],
   "source": []
  }
 ],
 "metadata": {
  "kernelspec": {
   "display_name": "Python 3",
   "language": "python",
   "name": "python3"
  },
  "language_info": {
   "codemirror_mode": {
    "name": "ipython",
    "version": 3
   },
   "file_extension": ".py",
   "mimetype": "text/x-python",
   "name": "python",
   "nbconvert_exporter": "python",
   "pygments_lexer": "ipython3",
   "version": "3.8.3"
  }
 },
 "nbformat": 4,
 "nbformat_minor": 4
}
